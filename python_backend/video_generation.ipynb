{
 "cells": [
  {
   "cell_type": "markdown",
   "metadata": {},
   "source": [
    "# PDF Extraction"
   ]
  },
  {
   "cell_type": "code",
   "execution_count": null,
   "metadata": {},
   "outputs": [],
   "source": [
    "import PyPDF2\n",
    "def extract_text_from_pdf(pdf_path):\n",
    "    text = \"\"\n",
    "    with open(pdf_path, 'rb') as pdf_file:\n",
    "        pdf_reader = PyPDF2.PdfReader(pdf_file)\n",
    "        for page_num in range (len(pdf_reader.pages)):\n",
    "            page = pdf_reader.pages[page_num]\n",
    "            text += page.extract_text()\n",
    "    return text"
   ]
  },
  {
   "cell_type": "code",
   "execution_count": null,
   "metadata": {},
   "outputs": [],
   "source": [
    "Text=extract_text_from_pdf(r\"C:\\Users\\akash\\Desktop\\Demo\\PIB1952792.pdf\")\n",
    "Text"
   ]
  },
  {
   "cell_type": "code",
   "execution_count": null,
   "metadata": {},
   "outputs": [],
   "source": [
    "from hugchat import hugchat\n",
    "from hugchat.login import Login"
   ]
  },
  {
   "cell_type": "code",
   "execution_count": null,
   "metadata": {},
   "outputs": [],
   "source": [
    "def generate_response(prompt_input, email, passwd):\n",
    "    # Hugging Face Login\n",
    "    sign = Login(email, passwd)\n",
    "    cookies = sign.login()\n",
    "    # Create ChatBot\n",
    "    chatbot = hugchat.ChatBot(cookies=cookies.get_dict())\n",
    "    return chatbot.chat(prompt_input)"
   ]
  },
  {
   "cell_type": "markdown",
   "metadata": {},
   "source": [
    "# Text Summarisation and keyword generation"
   ]
  },
  {
   "cell_type": "code",
   "execution_count": null,
   "metadata": {},
   "outputs": [],
   "source": [
    "\n",
    "# prompt=\"The Prime Minister, Shri Narendra Modi has congratulated Neeraj Chopra for winning the Gold at the World Athletics Championships.The Prime Minister said in a X post;“The talented @Neeraj_chopra1 exemplifies excellence. His dedication, precision and passion make him not just a champion in athletics but a symbol of unparalleled excellence in the entire sports world. Congrats to him for winning the Gold at the World Athletics Championships.\"\n",
    "\n",
    "prompt= Text +\"summarize this and identify the keywords in the summarized text.....Return in a json format with the key as summarised_text and keywords\"\n",
    "\n",
    "response = generate_response(prompt, \"akashsonu2003@gmail.com\", \"Hemasuresh2#\")"
   ]
  },
  {
   "cell_type": "code",
   "execution_count": null,
   "metadata": {},
   "outputs": [],
   "source": [
    "print(response)\n"
   ]
  },
  {
   "cell_type": "code",
   "execution_count": null,
   "metadata": {},
   "outputs": [],
   "source": [
    "import json\n",
    "res = json.loads(response)"
   ]
  },
  {
   "cell_type": "code",
   "execution_count": null,
   "metadata": {},
   "outputs": [],
   "source": [
    "res['summarised_text']"
   ]
  },
  {
   "cell_type": "code",
   "execution_count": null,
   "metadata": {},
   "outputs": [],
   "source": [
    "res['keywords']"
   ]
  },
  {
   "cell_type": "markdown",
   "metadata": {},
   "source": [
    "# Translation"
   ]
  },
  {
   "cell_type": "code",
   "execution_count": null,
   "metadata": {},
   "outputs": [],
   "source": [
    "from deep_translator import GoogleTranslator\n",
    "to_translate = res['summarised_text']\n",
    "translated = GoogleTranslator(source='auto', target='ta').translate(to_translate)"
   ]
  },
  {
   "cell_type": "markdown",
   "metadata": {},
   "source": [
    "# Text to Speech"
   ]
  },
  {
   "cell_type": "markdown",
   "metadata": {},
   "source": [
    "# "
   ]
  },
  {
   "cell_type": "code",
   "execution_count": null,
   "metadata": {},
   "outputs": [],
   "source": [
    "from gtts import gTTS\n",
    "import os\n",
    "\n",
    "# Create a gTTS object\n",
    "tts = gTTS(res['summarised_text'])\n",
    "\n",
    "# Save the audio to a file (e.g., output.mp3)\n",
    "tts.save(r\"C:\\Users\\akash\\Desktop\\\\output.mp3\")\n",
    "\n",
    "# Play the audio (you may need an external player like VLC)\n",
    "# os.system(\"output.mp3\")"
   ]
  },
  {
   "cell_type": "code",
   "execution_count": null,
   "metadata": {},
   "outputs": [],
   "source": [
    "# Create a gTTS object\n",
    "tts = gTTS(translated)\n",
    "\n",
    "# Save the audio to a file (e.g., output.mp3)\n",
    "tts.save(r\"C:\\Users\\akash\\Desktop\\Demo\\output_tamil.mp3\")\n",
    "\n",
    "# Play the audio (you may need an external player like VLC)\n",
    "# os.system(\"output_tamil.mp3\")"
   ]
  },
  {
   "cell_type": "markdown",
   "metadata": {},
   "source": [
    "# Video Generation"
   ]
  },
  {
   "cell_type": "code",
   "execution_count": 35,
   "metadata": {},
   "outputs": [],
   "source": [
    "from moviepy.editor import *\n",
    "from PIL import Image \n",
    "import glob\n",
    "import numpy as np\n",
    "from scipy.io import wavfile"
   ]
  },
  {
   "cell_type": "code",
   "execution_count": 37,
   "metadata": {},
   "outputs": [],
   "source": [
    "image_folder = \"C:\\Programming\\SIH\\images\"\n",
    "audio_path = \"C:\\\\Users\\\\91755\\\\Downloads\\\\download.wav\"       \n",
    "output_video_path = \"C:\\\\Programming\\\\SIH\\\\demo3.mp4\"   \n",
    "\n",
    "Fs, data = wavfile.read(audio_path)\n",
    "n = len(data)\n",
    "total_audio_duration = n / Fs"
   ]
  },
  {
   "cell_type": "code",
   "execution_count": 32,
   "metadata": {},
   "outputs": [
    {
     "data": {
      "text/plain": [
       "['C:\\\\Programming\\\\SIH\\\\images\\\\downloaded_image_1.jpg',\n",
       " 'C:\\\\Programming\\\\SIH\\\\images\\\\downloaded_image_2.jpg',\n",
       " 'C:\\\\Programming\\\\SIH\\\\images\\\\downloaded_image_3.jpg',\n",
       " 'C:\\\\Programming\\\\SIH\\\\images\\\\downloaded_image_4.jpg',\n",
       " 'C:\\\\Programming\\\\SIH\\\\images\\\\downloaded_image_5.jpg']"
      ]
     },
     "execution_count": 32,
     "metadata": {},
     "output_type": "execute_result"
    }
   ],
   "source": [
    "frame_rate = 24  \n",
    "image_files = [os.path.join(image_folder, filename) for filename in os.listdir(image_folder) if filename.endswith(('.jpg', '.png', '.jpeg'))]\n",
    "image_duration = total_audio_duration/len(image_files)\n",
    "image_files"
   ]
  },
  {
   "cell_type": "code",
   "execution_count": 33,
   "metadata": {},
   "outputs": [
    {
     "name": "stdout",
     "output_type": "stream",
     "text": [
      "5\n"
     ]
    }
   ],
   "source": [
    "from moviepy.editor import ImageClip, concatenate_videoclips\n",
    "from moviepy.audio.io.AudioFileClip import AudioFileClip\n",
    "\n",
    "# Create a list to hold your image clips\n",
    "image_clips = []\n",
    "\n",
    "# Create ImageClip instances for each image\n",
    "for image_path in image_files:\n",
    "    image_clip = ImageClip(image_path)\n",
    "    # Set the duration of the image clip\n",
    "    image_clip = image_clip.set_duration(image_duration)\n",
    "    image_clips.append(image_clip)\n",
    "\n",
    "print(len(image_clips))\n",
    "# Concatenate the image clips into a single video\n",
    "final_video = concatenate_videoclips(image_clips, method=\"compose\")\n",
    "\n",
    "# Load the audio clip\n",
    "audio_clip = AudioFileClip(audio_path)\n",
    "\n",
    "# Set the audio for the final video\n",
    "final_video = final_video.set_audio(audio_clip)\n",
    "\n",
    "# Export the final video\n",
    "# You can set the desired frame rate here\n"
   ]
  },
  {
   "cell_type": "code",
   "execution_count": 34,
   "metadata": {},
   "outputs": [
    {
     "name": "stdout",
     "output_type": "stream",
     "text": [
      "Moviepy - Building video C:\\Programming\\SIH\\demo3.mp4.\n",
      "MoviePy - Writing audio in demo3TEMP_MPY_wvf_snd.mp3\n"
     ]
    },
    {
     "name": "stderr",
     "output_type": "stream",
     "text": [
      "                                                                     \r"
     ]
    },
    {
     "name": "stdout",
     "output_type": "stream",
     "text": [
      "MoviePy - Done.\n",
      "Moviepy - Writing video C:\\Programming\\SIH\\demo3.mp4\n",
      "\n"
     ]
    },
    {
     "name": "stderr",
     "output_type": "stream",
     "text": [
      "                                                                \r"
     ]
    },
    {
     "name": "stdout",
     "output_type": "stream",
     "text": [
      "Moviepy - Done !\n",
      "Moviepy - video ready C:\\Programming\\SIH\\demo3.mp4\n"
     ]
    }
   ],
   "source": [
    "final_video.write_videofile(output_video_path, fps=24)"
   ]
  }
 ],
 "metadata": {
  "kernelspec": {
   "display_name": "Python 3 (ipykernel)",
   "language": "python",
   "name": "python3"
  },
  "language_info": {
   "codemirror_mode": {
    "name": "ipython",
    "version": 3
   },
   "file_extension": ".py",
   "mimetype": "text/x-python",
   "name": "python",
   "nbconvert_exporter": "python",
   "pygments_lexer": "ipython3",
   "version": "3.9.6"
  }
 },
 "nbformat": 4,
 "nbformat_minor": 2
}
